{
 "cells": [
  {
   "cell_type": "markdown",
   "id": "e4387305-3d0a-4f8e-a286-a74507f198e1",
   "metadata": {},
   "source": [
    "# Exploratory Data Analysis and Preprocessing\n",
    "\n",
    "Author: Marco Pellegrino<br>\n",
    "Year: 2024\n",
    "\n",
    "This overall project aims to build a simple model to predict the probability of loan default based on loan application data. This information helps assess business risk and improve loan approval decisions.\n",
    "\n",
    "In this notebook, data is explored and formatted, ready for the processing and training pipeline."
   ]
  },
  {
   "cell_type": "code",
   "execution_count": null,
   "id": "0ed731c7-ae51-468a-8659-912860f98fb1",
   "metadata": {},
   "outputs": [],
   "source": [
    "import requests\n",
    "import pandas as pd\n",
    "import datetime\n",
    "import seaborn as sns\n",
    "import matplotlib.pyplot as plt\n",
    "import time\n",
    "import numpy as np\n",
    "import os\n",
    "\n",
    "# Import paths\n",
    "from config import *"
   ]
  },
  {
   "cell_type": "code",
   "execution_count": null,
   "id": "8ed6bf12-95b5-453b-a90f-d030b89cac3d",
   "metadata": {},
   "outputs": [],
   "source": [
    "# Check if the directory for plots exists\n",
    "if not os.path.exists(PATH_PLOTS_RAW):\n",
    "    # If it doesn't exist, create the directory\n",
    "    os.makedirs(PATH_PLOTS_RAW)"
   ]
  },
  {
   "cell_type": "markdown",
   "id": "52921f4b-f763-4997-82c7-7ee365ba4d87",
   "metadata": {},
   "source": [
    "# Load Data"
   ]
  },
  {
   "cell_type": "markdown",
   "id": "45f0cb69-b02f-4a3d-bd61-3237d3e6417f",
   "metadata": {},
   "source": [
    "#### a) Import data from local CSV file"
   ]
  },
  {
   "cell_type": "code",
   "execution_count": null,
   "id": "8c2faf0b-311d-4856-9180-8cb62e789239",
   "metadata": {},
   "outputs": [],
   "source": [
    "# Import data\n",
    "df = pd.read_csv(PATH_DATA_RAW+'loan_application_data-raw.csv', index_col=False)"
   ]
  },
  {
   "cell_type": "markdown",
   "id": "ceac1c59-549e-4b96-ad5e-412738333d74",
   "metadata": {},
   "source": [
    "#### b) Import data from AWS S3 bucket"
   ]
  },
  {
   "cell_type": "code",
   "execution_count": null,
   "id": "052a9544-38d7-41ec-b2f7-da6bae070698",
   "metadata": {},
   "outputs": [],
   "source": [
    "def read_csv_from_s3(bucket_name, region_name):\n",
    "    \"\"\"\n",
    "    Read a CSV file from S3 and return a Pandas DataFrame.\n",
    "\n",
    "    Args:\n",
    "        bucket_name (str): The name of the S3 bucket.\n",
    "        region_name (str): AWS region name.\n",
    "\n",
    "    Returns:\n",
    "        pd.DataFrame: The Pandas DataFrame containing the CSV data.\n",
    "    \"\"\"\n",
    "    # Create a connection to S3\n",
    "    s3 = boto3.client('s3',\n",
    "                      aws_access_key_id=os.environ.get('AWS_ACCESS_KEY_ID'),\n",
    "                      aws_secret_access_key=os.environ.get('AWS_SECRET_ACCESS_KEY'),\n",
    "                      region_name=region_name)\n",
    "\n",
    "    # Retrieve the CSV file from S3\n",
    "    obj = s3.get_object(Bucket=bucket_name, Key=os.environ.get('S3_FILE_KEY'))\n",
    "    data = obj['Body'].read()\n",
    "\n",
    "    # Load CSV data into a Pandas DataFrame\n",
    "    df = pd.read_csv(io.BytesIO(data))\n",
    "\n",
    "    return df\n",
    "\n",
    "\"\"\"\n",
    "import boto3\n",
    "import io\n",
    "\n",
    "df = read_csv_from_s3(s3_bucket='loan_application_data-raw',\n",
    "                      region_name=aws_region)\n",
    "\"\"\""
   ]
  },
  {
   "cell_type": "markdown",
   "id": "b5e463c2-0ff0-410e-b61a-01154b0c6173",
   "metadata": {},
   "source": [
    "# Data Types Inspection"
   ]
  },
  {
   "cell_type": "code",
   "execution_count": null,
   "id": "4787d471-0c29-4ede-9acb-ac03a14bded8",
   "metadata": {},
   "outputs": [],
   "source": [
    "# Check features and data types and\n",
    "df.info()"
   ]
  },
  {
   "cell_type": "markdown",
   "id": "44179770-27b7-4f2c-b96c-be82b349f768",
   "metadata": {},
   "source": [
    "# Manual inspection"
   ]
  },
  {
   "cell_type": "code",
   "execution_count": null,
   "id": "297eedec-eefb-4339-82fb-d4e406d56322",
   "metadata": {},
   "outputs": [],
   "source": [
    "df.head()"
   ]
  },
  {
   "cell_type": "markdown",
   "id": "8d1c8ad1-f4a2-4d55-b74b-9f1edeb4783b",
   "metadata": {},
   "source": [
    "# Inspect values of categorical features"
   ]
  },
  {
   "cell_type": "markdown",
   "id": "22959c29-a250-4181-ad08-223affdeb91f",
   "metadata": {},
   "source": [
    "Check if company_type only contains AB as communicated in the document"
   ]
  },
  {
   "cell_type": "code",
   "execution_count": null,
   "id": "db2881db-696b-4332-8ade-ebb459845471",
   "metadata": {},
   "outputs": [],
   "source": [
    "df['company_type'].unique()"
   ]
  },
  {
   "cell_type": "markdown",
   "id": "6b2c2476-b205-4fec-a333-8a8f8ff6502e",
   "metadata": {},
   "source": [
    "# Domain-based Feature Selection"
   ]
  },
  {
   "cell_type": "markdown",
   "id": "a277f808-a9f4-4843-b73f-15842a3ebd9f",
   "metadata": {},
   "source": [
    "Remove `application_id` and `index` because they are just to track and find applications, it does not bring any information for the ML modeling"
   ]
  },
  {
   "cell_type": "code",
   "execution_count": null,
   "id": "f92c952b-7404-4a4a-8caf-2c249f2a0a5d",
   "metadata": {},
   "outputs": [],
   "source": [
    "df = df.drop(columns=['index', 'r_application_id'])"
   ]
  },
  {
   "cell_type": "markdown",
   "id": "59b7c11e-bc5e-43c7-9b26-ff0f8b63c986",
   "metadata": {},
   "source": [
    "Remove `company_type` because it contains the same value for all entries"
   ]
  },
  {
   "cell_type": "code",
   "execution_count": null,
   "id": "0fc036d0-7139-4216-a9b2-ce390fb1a12b",
   "metadata": {},
   "outputs": [],
   "source": [
    "df = df.drop(columns=['company_type'])"
   ]
  },
  {
   "cell_type": "markdown",
   "id": "e852c0d9-e1c7-4e2c-bff5-496ce8b3677e",
   "metadata": {},
   "source": [
    "# Target Distribution Inspection"
   ]
  },
  {
   "cell_type": "code",
   "execution_count": null,
   "id": "d91051f6-33b7-4257-9651-9c98ad6c33b0",
   "metadata": {},
   "outputs": [],
   "source": [
    "sns.set(style=\"whitegrid\")\n",
    "\n",
    "ax = sns.countplot(x=df['default'], palette=\"Set3\", hue=df['default'], legend=False)\n",
    "sns.set(font_scale=1.5)\n",
    "ax.set_xlabel('Loan Default')\n",
    "ax.set_ylabel('Frequency')\n",
    "fig = plt.gcf()\n",
    "fig.set_size_inches(10, 5)\n",
    "\n",
    "# Adding percentage labels on each bar\n",
    "total = len(df['default'])\n",
    "for p in ax.patches:\n",
    "    percentage = '{:.1f}%'.format(100 * p.get_height() / total)\n",
    "    x = p.get_x() + p.get_width() / 2\n",
    "    y = p.get_height()\n",
    "    ax.annotate(percentage, (x, y), ha='center', va='bottom')\n",
    "\n",
    "plt.title('RAW Distribution of Loan Default')\n",
    "plt.savefig(PATH_PLOTS_RAW+\"raw_target_distribution.png\")\n",
    "plt.show()"
   ]
  },
  {
   "cell_type": "markdown",
   "id": "03894459-1804-4f85-adb5-ffd75d14a0d6",
   "metadata": {},
   "source": [
    "Target distribution consists of mostly non-approved applications"
   ]
  },
  {
   "cell_type": "markdown",
   "id": "eac5b3fd-ea7c-430c-855d-3d6b0ea8e30e",
   "metadata": {},
   "source": [
    "# Values Formatting"
   ]
  },
  {
   "cell_type": "markdown",
   "id": "a4a75e79-c716-4660-b9a5-31cbc47c3d84",
   "metadata": {},
   "source": [
    "#### Application and Incorporation Date"
   ]
  },
  {
   "cell_type": "markdown",
   "id": "3467ec57-777f-405f-b5de-6e94f6b2b05b",
   "metadata": {},
   "source": [
    "Models work better with numerical representations. Convert the incorporation date in the number of days from a reference date (1st January 1900)"
   ]
  },
  {
   "cell_type": "code",
   "execution_count": null,
   "id": "54a230ff-899e-4204-b98b-058dcd71f3ef",
   "metadata": {},
   "outputs": [],
   "source": [
    "# Convert date from String to Datetime\n",
    "df['applic_date'] = pd.to_datetime(df['applic_date'])\n",
    "df['incorporation_date'] = pd.to_datetime(df['incorporation_date'])\n",
    "\n",
    "# Fix Reference Date\n",
    "reference_date = datetime.datetime(1900, 1, 1)\n",
    "\n",
    "# Compute Number of Days from Reference Day\n",
    "df['application_days'] = (df['applic_date'] - reference_date).dt.days.round().astype('Int64')\n",
    "df['incorporation_days'] = (df['incorporation_date'] - reference_date).dt.days.round().astype('Int64')\n",
    "\n",
    "# Delete Original Full Date Feature\n",
    "df = df.drop(columns=['applic_date'])\n",
    "df = df.drop(columns=['incorporation_date'])"
   ]
  },
  {
   "cell_type": "markdown",
   "id": "c649d9da-efab-4e66-9cf8-90a7584abbbc",
   "metadata": {},
   "source": [
    "#### Company Rating"
   ]
  },
  {
   "cell_type": "markdown",
   "id": "ca3a1ccb-24e3-4df2-9db2-ff38762f5b7a",
   "metadata": {},
   "source": [
    "`company_rating` could have negative values when value is not indicated. Trasform them into NA"
   ]
  },
  {
   "cell_type": "code",
   "execution_count": null,
   "id": "d2f558c3-4e0d-45e9-b6e2-7935805e3e60",
   "metadata": {},
   "outputs": [],
   "source": [
    "df.loc[df['company_rating'] < 0, 'company_rating'] = pd.NA"
   ]
  },
  {
   "cell_type": "code",
   "execution_count": null,
   "id": "a131079c-20ac-4d24-afbd-8d8ded277b8b",
   "metadata": {},
   "outputs": [],
   "source": [
    "# Check if any cleaning is needed also on the upper limit\n",
    "max(df['company_rating'])"
   ]
  },
  {
   "cell_type": "markdown",
   "id": "2dce34df-7f06-45d4-94e1-3d550776c978",
   "metadata": {},
   "source": [
    "#### Person Scoring"
   ]
  },
  {
   "cell_type": "markdown",
   "id": "1fae1f27-8b8a-488d-9482-bbc7e099e512",
   "metadata": {},
   "source": [
    "`person_scoring`, like company rating, could have negative values when value is not indicated. Trasform them into NA"
   ]
  },
  {
   "cell_type": "code",
   "execution_count": null,
   "id": "d0f261a6-935f-4324-a23d-b8d355a1b609",
   "metadata": {},
   "outputs": [],
   "source": [
    "df.loc[df['person_scoring'] < 0, 'person_scoring'] = pd.NA"
   ]
  },
  {
   "cell_type": "code",
   "execution_count": null,
   "id": "7190940b-2cb4-4952-8380-9abf4306dccb",
   "metadata": {},
   "outputs": [],
   "source": [
    "# Check if any cleaning is needed also on the upper limit\n",
    "max(df['person_scoring'])"
   ]
  },
  {
   "cell_type": "markdown",
   "id": "87a7afc8-c191-4db3-8587-fb29b73b4256",
   "metadata": {},
   "source": [
    "#### UC Risk Class"
   ]
  },
  {
   "cell_type": "markdown",
   "id": "5a0e9259-a657-4da7-85ed-58d198de57fe",
   "metadata": {},
   "source": [
    "`uc_risk_class` could have \"nr\" values when value is not indicated. Trasform them into NA"
   ]
  },
  {
   "cell_type": "code",
   "execution_count": null,
   "id": "10a823c9-f719-4428-8dc9-16d0d7371d94",
   "metadata": {},
   "outputs": [],
   "source": [
    "# Replace 'nr' (or any other string) with NaN and convert the column to int\n",
    "df['uc_risk_class'] = pd.to_numeric(df['uc_risk_class'], errors='coerce').astype('Int64')"
   ]
  },
  {
   "cell_type": "markdown",
   "id": "0a0f7066-8a58-4a91-9468-12556889edce",
   "metadata": {},
   "source": [
    "#### Look for other formatting"
   ]
  },
  {
   "cell_type": "code",
   "execution_count": null,
   "id": "df769a8a-dc24-41f9-82bb-5b6bf2766b5a",
   "metadata": {},
   "outputs": [],
   "source": [
    "df.describe()"
   ]
  },
  {
   "cell_type": "markdown",
   "id": "ed4b6e0b-21fb-4f8e-aae6-6f7d0979669b",
   "metadata": {},
   "source": [
    "# Inspect value distributions"
   ]
  },
  {
   "cell_type": "code",
   "execution_count": null,
   "id": "2a7ac4d9-1f59-4c3b-8376-508d06a48c5f",
   "metadata": {},
   "outputs": [],
   "source": [
    "# Set the style to whitegrid\n",
    "sns.set(style=\"whitegrid\")\n",
    "\n",
    "fig, axes = plt.subplots(nrows=5, ncols=2, figsize=(12, 12))\n",
    "\n",
    "for i, column in enumerate(df.columns):\n",
    "    row, col = divmod(i, 2)\n",
    "    sns.histplot(df[column], ax=axes[i // 2, i % 2], bins=20, kde=True)\n",
    "    axes[i // 2, i % 2].set_title(column)\n",
    "    axes[i // 2, i % 2].set_xlabel('Value')\n",
    "    axes[i // 2, i % 2].set_ylabel('Frequency')\n",
    "\n",
    "plt.tight_layout()\n",
    "plt.savefig(PATH_PLOTS_RAW+\"raw_distributions.png\")\n",
    "plt.show()"
   ]
  },
  {
   "cell_type": "markdown",
   "id": "cd446422-67b8-431a-b46d-7308561b4081",
   "metadata": {},
   "source": [
    "From the plots I see that features such as `default`, `pre_contr_count`, `net_turnover`, and `max_late_1y` are highly skewed.\n",
    "`person_scoring` and `company_rating` are more uniformly distributed."
   ]
  },
  {
   "cell_type": "markdown",
   "id": "0e34e040-aa6a-4e00-b3ce-2efbce65d098",
   "metadata": {},
   "source": [
    "From the plots I see that features do not have strange values to be formatted (e.g. -1 values to be converted to NA)"
   ]
  },
  {
   "cell_type": "markdown",
   "id": "bda9e86a-22a3-422d-9af6-b38f78f964ca",
   "metadata": {},
   "source": [
    "# Correlation-based Feature Selection"
   ]
  },
  {
   "cell_type": "markdown",
   "id": "7babb223-8a19-4cf4-a2ed-06b8206156ea",
   "metadata": {},
   "source": [
    "Correlated feature might not provide additional information and might even introduce multicollinearity. Compute a correlation matrix for the numerical features."
   ]
  },
  {
   "cell_type": "code",
   "execution_count": null,
   "id": "48a2855e-60d6-4d06-bda8-5d2960febb87",
   "metadata": {},
   "outputs": [],
   "source": [
    "# Do not include target\n",
    "df_corr = df.drop(columns=['default'])\n",
    "\n",
    "# Select only numerical features\n",
    "features_num = df_corr.select_dtypes(include=['number']).columns\n",
    "\n",
    "# Compute Correlation Matrix\n",
    "correlation_matrix = df_corr[features_num].corr().abs()\n",
    "\n",
    "# Select the upper triangle (correlation matrix is symmetric)\n",
    "upper_triangle = correlation_matrix.where(np.triu(np.ones(correlation_matrix.shape), k=1).astype(bool))\n",
    "\n",
    "# Select features with a correlation higher than 0.8\n",
    "to_drop = [column for column in upper_triangle.columns if any(upper_triangle[column] > 0.8)]\n",
    "\n",
    "print('Features with correlation higher than 0.8: ', to_drop)"
   ]
  },
  {
   "cell_type": "code",
   "execution_count": null,
   "id": "57696082-ba52-4ea7-b22b-c299bcd9bbf7",
   "metadata": {},
   "outputs": [],
   "source": [
    "# Visualize Correlation Matrix with Heatmap\n",
    "sns.set(style=\"whitegrid\")\n",
    "plt.figure(figsize=(12, 8))\n",
    "sns.heatmap(upper_triangle, cmap=\"coolwarm\", annot=True, fmt=\".2f\", vmin=0, vmax=1, cbar_kws={'label': 'Correlation'})\n",
    "plt.title(\"Correlation Heatmap\")\n",
    "plt.tight_layout()\n",
    "\n",
    "# Save the plot\n",
    "plt.savefig(PATH_PLOTS_RAW+\"correlation_heatmap.png\")\n",
    "\n",
    "plt.show()"
   ]
  },
  {
   "cell_type": "markdown",
   "id": "a0b0b3e7-42f7-43a4-b166-84cd22fbfe3a",
   "metadata": {},
   "source": [
    "No feature can be removed due to correlation."
   ]
  },
  {
   "cell_type": "markdown",
   "id": "f379e5ef-5864-411e-955e-ca77231afc58",
   "metadata": {},
   "source": [
    "# Final Summary"
   ]
  },
  {
   "cell_type": "code",
   "execution_count": null,
   "id": "c284c3cb-25c0-4af9-bf2a-6daaeb83be0b",
   "metadata": {},
   "outputs": [],
   "source": [
    "df.info()"
   ]
  },
  {
   "cell_type": "code",
   "execution_count": null,
   "id": "4f002422-dc2b-429e-a564-5b7f6d33b581",
   "metadata": {},
   "outputs": [],
   "source": [
    "df.describe()"
   ]
  },
  {
   "cell_type": "markdown",
   "id": "c3ce85ff-cb83-4615-8794-e8c573119e6a",
   "metadata": {},
   "source": [
    "# Save Data Locally"
   ]
  },
  {
   "cell_type": "code",
   "execution_count": null,
   "id": "5a4628e9-b59b-48ff-9056-e8d44636aa65",
   "metadata": {},
   "outputs": [],
   "source": [
    "# Check if the directory for processed data exists\n",
    "if not os.path.exists(PATH_DATA_PREPROCESSED):\n",
    "    # If it doesn't exist, create the directory\n",
    "    os.makedirs(PATH_DATA_PREPROCESSED)\n",
    "\n",
    "# Save processed data\n",
    "df.to_csv(PATH_DATA_PREPROCESSED+'loan_application_data-preprocessed.csv', header=True, index=False)"
   ]
  }
 ],
 "metadata": {
  "kernelspec": {
   "display_name": "Python (marcoenv)",
   "language": "python",
   "name": "marcoenv"
  },
  "language_info": {
   "codemirror_mode": {
    "name": "ipython",
    "version": 3
   },
   "file_extension": ".py",
   "mimetype": "text/x-python",
   "name": "python",
   "nbconvert_exporter": "python",
   "pygments_lexer": "ipython3",
   "version": "3.11.5"
  }
 },
 "nbformat": 4,
 "nbformat_minor": 5
}
